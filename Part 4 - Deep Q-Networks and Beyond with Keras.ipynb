{
 "cells": [
  {
   "cell_type": "code",
   "execution_count": 5,
   "metadata": {},
   "outputs": [],
   "source": [
    "from __future__ import division\n",
    "import gym\n",
    "import numpy as np\n",
    "from keras.models import Sequential\n",
    "from keras.layers import Conv2D, Dense, Flatten, Input\n",
    "import matplotlib.pyplot as plt\n",
    "import scipy.misc\n",
    "import os\n",
    "%matplotlib inline"
   ]
  },
  {
   "cell_type": "code",
   "execution_count": 6,
   "metadata": {},
   "outputs": [
    {
     "data": {
      "image/png": "[encoded data removed]",
      "text/plain": [
       "<matplotlib.figure.Figure at 0x112082668>"
      ]
     },
     "metadata": {},
     "output_type": "display_data"
    }
   ],
   "source": [
    "from gridworld import gameEnv\n",
    "\n",
    "env = gameEnv(partial=False, size=5)"
   ]
  },
  {
   "cell_type": "code",
   "execution_count": 8,
   "metadata": {},
   "outputs": [
    {
     "data": {
      "text/plain": [
       "(84, 84, 3)"
      ]
     },
     "execution_count": 8,
     "metadata": {},
     "output_type": "execute_result"
    }
   ],
   "source": [
    "env.state.shape"
   ]
  },
  {
   "cell_type": "markdown",
   "metadata": {},
   "source": [
    "This is the game we'll be working on. The player can move the blue square up, down, left or right. The point of the game is to get to the green square (+1 reward) and avoid the red square (-1 reward). Blocks are randomized"
   ]
  },
  {
   "cell_type": "markdown",
   "metadata": {},
   "source": [
    "## Implementing the network"
   ]
  },
  {
   "cell_type": "code",
   "execution_count": 73,
   "metadata": {},
   "outputs": [],
   "source": [
    "class Qnetwork():\n",
    "    def __init__(self, final_layer_size):\n",
    "        # The input image of the game is 84 x 84 x 3 (RGB) \n",
    "        inputs = Input(shape=env.state.shape())\n",
    "\n",
    "        # There will be four layers of convolutions performed on the image input\n",
    "        # A convolution take a portion of an input and matrix multiplies\n",
    "        # a filter on the portion to get a new input (see below)\n",
    "        self.model = Conv2D(\n",
    "            filters=32,\n",
    "            kernel_size=[8,8],\n",
    "            strides=[4,4],\n",
    "            padding=\"valid\")(inputs)\n",
    "        self.model = Conv2D(\n",
    "            filters=64,\n",
    "            kernel_size=[4,4],\n",
    "            strides=[2,2],\n",
    "            padding=\"valid\")(self.model)\n",
    "        self.model = Conv2D(\n",
    "            filters=64,\n",
    "            kernel_size=[3,3],\n",
    "            strides=[1,1],\n",
    "            padding=\"valid\")(self.model)\n",
    "        self.model = Conv2D(\n",
    "            filters= final_layer_size,\n",
    "            kernel_size=[7,7],\n",
    "            strides=[1,1],\n",
    "            padding=\"valid\")(self.model)\n",
    "\n",
    "        \n",
    "        # We then separate the final convolution layer into an advantage and value\n",
    "        # stream. The value function is how well off you are in a given state.\n",
    "        # The advantage is the how much better off you are after making a particular\n",
    "        # move. Q is the value function of a state after a given action.\n",
    "        # Advantage(state, action) = Q(state, action) - Value(state)\n",
    "        self.stream_AC, self.stream_VC = tf.split(split_dim=3,num_split=2,value=self.conv4)\n",
    "        \n",
    "        # We then flatten the advantage and value functions\n",
    "        self.stream_AC = slim.flatten(self.stream_AC)\n",
    "        self.stream_VC = slim.flatten(self.stream_VC)\n",
    "        \n",
    "        # We define weights for our advantage and value layers. We will train these\n",
    "        # layers so the matmul will match the expected value and advantage from play\n",
    "        xavier_init = tf.contrib.layers.xavier_initializer()\n",
    "        self.AW = tf.Variable(xavier_init([final_layer_size//2,env.actions]))\n",
    "        self.VW = tf.Variable(xavier_init([final_layer_size//2,1]))\n",
    "        self.Advantage = tf.matmul(self.stream_AC, self.AW)\n",
    "        self.Value = tf.matmul(self.stream_VC, self.VW)\n",
    "        \n",
    "        # To get the Q output, we need to add the value to the advantage.\n",
    "        # The advantage to be evaluated will bebased on how good the action\n",
    "        # is based on the average advantage of that state\n",
    "        self.Q_out = self.Value + tf.subtract(self.Advantage,\n",
    "                                              tf.reduce_mean(self.Advantage,axis=1,keep_dims=True))\n",
    "\n",
    "        # Our prediction is then the highest Q output\n",
    "        self.predict = tf.argmax(self.Q_out, 1)\n",
    "        \n",
    "        # We need to keep track of our losses (sum of square differences)\n",
    "        self.target_Q = tf.placeholder(shape=[None],dtype=tf.float32)\n",
    "        self.actions = tf.placeholder(shape=[None],dtype=tf.int32)\n",
    "        self.actions_onehot = tf.one_hot(self.actions, env.actions,dtype=tf.float32)\n",
    "        \n",
    "        # Final Q values that we want to learn from\n",
    "        self.Q = tf.reduce_sum(tf.multiply(self.Q_out, self.actions_onehot), axis=1)\n",
    "        \n",
    "        # Calculating errors and training\n",
    "        self.td_error = tf.square(self.target_Q - self.Q)\n",
    "        self.loss = tf.reduce_mean(self.td_error)\n",
    "        self.trainer = tf.train.AdamOptimizer(learning_rate=0.0001)\n",
    "        self.update_model = self.trainer.minimize(self.loss)"
   ]
  },
  {
   "cell_type": "markdown",
   "metadata": {},
   "source": [
    "## How convolutions work\n",
    "![How convolutions work](img/convolutions.gif)"
   ]
  },
  {
   "cell_type": "markdown",
   "metadata": {},
   "source": [
    "## Experience Replay\n",
    "\n",
    "This class allows us to store experiences and sample them randomly for learning"
   ]
  },
  {
   "cell_type": "code",
   "execution_count": 135,
   "metadata": {},
   "outputs": [],
   "source": [
    "class ExperienceReplay:\n",
    "    def __init__(self,buffer_size=50000):\n",
    "        # Buffer will contain [state,action,reward,next_state,done]\n",
    "        self.buffer = []\n",
    "        self.buffer_size = buffer_size\n",
    "    \n",
    "    def add(self, experience):\n",
    "        # Extend the stored experiences\n",
    "        self.buffer.extend(experience)\n",
    "        # Keep the last buffer_size number of experiences\n",
    "        self.buffer = self.buffer[-self.buffer_size:]\n",
    "        \n",
    "    def sample(self, size):\n",
    "        sample_idxs = np.random.randint(len(self.buffer),size=size)\n",
    "        sample_output = [self.buffer[idx] for idx in sample_idxs]\n",
    "        sample_output = np.reshape(sample_output,(size,-1))\n",
    "        return sample_output"
   ]
  },
  {
   "cell_type": "code",
   "execution_count": 179,
   "metadata": {},
   "outputs": [],
   "source": [
    "def process_state(states):\n",
    "    # This will flatten our state to be used in our Q network\n",
    "    return states.flatten()\n",
    "\n",
    "def updateTargetGraph(tfVars,tau):\n",
    "    total_vars = len(tfVars)\n",
    "    op_holder = []\n",
    "    for idx,var in enumerate(tfVars[0:total_vars//2]):\n",
    "        op_holder.append(tfVars[idx+total_vars//2].assign((var.value()*tau) + ((1-tau)*tfVars[idx+total_vars//2].value())))\n",
    "    return op_holder\n",
    "\n",
    "# def update_target_graph(tf_vars, tau):\n",
    "#     num_vars = len(tf_vars)\n",
    "#     # tf_vars contains both our primary and target graph\n",
    "#     # [primary..., target...]\n",
    "#     # target graph starts half way through the list\n",
    "#     target_start = num_vars // 2\n",
    "#     op_holder = []\n",
    "#     for idx, var in enumerate(tf_vars[:target_start]):\n",
    "#         # ??\n",
    "# #         updated_val = (var.value() * tau) + \\\n",
    "#         updated_val = (var * tau) + \\\n",
    "#             ((1 - tau) * tf_vars[target_start + idx])\n",
    "# #             ((1 - tau) * tf_vars[target_start + idx].value())\n",
    "# #         updated_graph = tf_vars[target_start + idx]\n",
    "#     #         updated_graph.assign(updated_val)\n",
    "#         op_holder.append(updated_val)\n",
    "#     return op_holder\n",
    "\n",
    "def update_target(op_holder, sess):\n",
    "    for op in op_holder:\n",
    "        sess.run(op)"
   ]
  },
  {
   "cell_type": "code",
   "execution_count": 180,
   "metadata": {},
   "outputs": [
    {
     "data": {
      "text/plain": [
       "[4.5, 5.5, 6.5, 7.5, 8.5]"
      ]
     },
     "execution_count": 180,
     "metadata": {},
     "output_type": "execute_result"
    }
   ],
   "source": [
    "update_target_graph(np.arange(10),0.1)"
   ]
  },
  {
   "cell_type": "markdown",
   "metadata": {},
   "source": [
    "## Training the network"
   ]
  },
  {
   "cell_type": "code",
   "execution_count": 182,
   "metadata": {},
   "outputs": [],
   "source": [
    "batch_size = 32 # How many experiences to use for each training step\n",
    "update_freq = 4 # How often to perform a training step\n",
    "y = 0.99 # Discount factor\n",
    "prob_random_start = 1 # Starting chance of random action\n",
    "prob_random_end = 0.1 # Ending chance of random action\n",
    "annealing_steps = 10000. # Steps of training to reduce from start_e -> end_e\n",
    "num_episodes = 10000 # How many episodes of game environment to train\n",
    "pre_train_episodes = 100 # Number of episodes of random actions\n",
    "max_num_step = 50 # Maximum allowed episode length\n",
    "load_model = False # Whether to load a saved model\n",
    "path = \"./dqn\" # Path to save our model to\n",
    "final_layer_size = 512 # Size of the final convolution layer before \n",
    "                       # splitting into Advantage and Value streams\n",
    "tau = 0.001 # Rate to update target network toward primary network"
   ]
  },
  {
   "cell_type": "code",
   "execution_count": null,
   "metadata": {},
   "outputs": [
    {
     "name": "stdout",
     "output_type": "stream",
     "text": [
      "Num episode: 0 Mean reward: 2.0000\n",
      "Num episode: 50 Mean reward: 1.8200\n",
      "Num episode: 100 Mean reward: 1.5400\n"
     ]
    }
   ],
   "source": [
    "# Reset everything\n",
    "tf.reset_default_graph()\n",
    "\n",
    "# Setup our Q-networks\n",
    "main_qn = Qnetwork(final_layer_size)\n",
    "target_qn = Qnetwork(final_layer_size)\n",
    "\n",
    "# Initializer\n",
    "init = tf.global_variables_initializer()\n",
    "\n",
    "# Saver to save our neural network\n",
    "saver = tf.train.Saver()\n",
    "\n",
    "# Variables we'll be training in the neural network\n",
    "trainables = tf.trainable_variables()\n",
    "\n",
    "# Returns our variables\n",
    "target_ops = updateTargetGraph(trainables, tau)\n",
    "\n",
    "# Setup our experience replay\n",
    "experience_replay = ExperienceReplay()\n",
    "\n",
    "# We'll begin by acting complete randomly. As we gain experience and improve,\n",
    "# we will begin reducing the probability of acting randomly, and instead\n",
    "# take the actions that our Q network suggests\n",
    "prob_random = prob_random_start\n",
    "prob_random_drop = (prob_random_start - prob_random_end) / annealing_steps\n",
    "\n",
    "num_steps = [] # Tracks number of steps per episode\n",
    "rewards = [] # Tracks rewards per episode\n",
    "total_steps = 0 # Tracks cumulative steps taken in training\n",
    "\n",
    "print_every = 50 # How often to print status\n",
    "save_every = 10 # How often to save\n",
    "\n",
    "# Setup path for saving\n",
    "if not os.path.exists(path):\n",
    "    os.makedirs(path)\n",
    "\n",
    "with tf.Session() as sess:\n",
    "    sess.run(init)\n",
    "    if load_model == True:\n",
    "        print(\"Loading model...\")\n",
    "        ckpt = tf.train.get_checkpoint_state(path)\n",
    "        saver.restore(sess,ckpt.model_checkpoint_path)\n",
    "    \n",
    "    for num_episode in range(num_episodes):\n",
    "        # Create an experience replay for the current episode\n",
    "        episode_buffer = ExperienceReplay()\n",
    "        \n",
    "        # Get the game state from the environment\n",
    "        state = env.reset()\n",
    "        \n",
    "        # Process the game state so it can be used in our Q network\n",
    "        state = process_state(state)\n",
    "        \n",
    "        done = False # Game is complete\n",
    "        sum_rewards = 0 # Running sum of rewards in episode\n",
    "        cur_step = 0 # Running sum of number of steps taken in episode\n",
    "        \n",
    "        while cur_step < max_num_step:\n",
    "            cur_step += 1\n",
    "            total_steps += 1\n",
    "            \n",
    "            if np.random.rand() < prob_random or \\\n",
    "                num_episode < pre_train_episodes:\n",
    "                    # Act randomly based on prob_random or if we\n",
    "                    # have not accumulated enough pre_train steps\n",
    "                    action = np.random.randint(env.actions)\n",
    "            else:\n",
    "                # Decide what action to take from the Q network\n",
    "                feed_dict = {main_qn.scalar_input: [state]}\n",
    "                action = sess.run(main_qn.predict,\n",
    "                                  feed_dict=feed_dict)\n",
    "                action = action[0]\n",
    "            \n",
    "            # Take the action and retrieve the next state, reward and done\n",
    "            next_state, reward, done = env.step(action)\n",
    "            \n",
    "            # Process next state\n",
    "            next_state = process_state(next_state)\n",
    "            \n",
    "            # Setup the episode to be stored in the episode buffer\n",
    "            episode = np.array([state,action,reward,next_state,done])\n",
    "            episode = episode.reshape(1,-1)\n",
    "            episode_buffer.add(episode)\n",
    "            \n",
    "            sum_rewards += reward\n",
    "            state = next_state\n",
    "\n",
    "            if num_episode > pre_train_episodes:\n",
    "                if prob_random > prob_random_end:\n",
    "                    prob_random -= prob_random_drop\n",
    "                \n",
    "                if total_steps % update_freq == 0:\n",
    "                    # Train batch is [[state,action,reward,next_state,done],...]\n",
    "                    train_batch = experience_replay.sample(batch_size)\n",
    "                    # Separate the batch into its components\n",
    "                    train_state, train_action, train_reward, \\\n",
    "                        train_next_state, train_done = train_batch.T\n",
    "                    \n",
    "                    # Convert state and next_state from ???\n",
    "                    train_state = np.vstack(train_state)\n",
    "                    train_next_state = np.vstack(train_next_state)\n",
    "                    \n",
    "                    # Our predictions (actions to take) from the main Q network\n",
    "                    train_next_state_action = sess.run(\n",
    "                        main_qn.predict,\n",
    "                        feed_dict = { \n",
    "                          main_qn.scalar_input: train_state\n",
    "                        })\n",
    "                    \n",
    "                    # The Q values from our target network from the next state\n",
    "                    train_next_state = sess.run(target_qn.Q_out,\n",
    "                                 feed_dict = {\n",
    "                                     target_qn.scalar_input: train_next_state\n",
    "                                 })\n",
    "                    \n",
    "                    # Tells us whether game over or not\n",
    "                    # We will multiply our gradients by this value\n",
    "                    # to ensure we don't train on the last move\n",
    "                    train_gameover = train_done == 0\n",
    "                    \n",
    "                    # Q value of the next state based on action\n",
    "                    train_next_state_values = train_next_state[range(batch_size), train_next_state_action]\n",
    "                    \n",
    "                    # Reward from the action chosen in the train batch\n",
    "                    target_q = train_reward + (y * train_next_state_values * train_gameover)\n",
    "                    \n",
    "                    _ = sess.run(main_qn.update_model, \\\n",
    "                                feed_dict={\n",
    "                                    main_qn.scalar_input: train_state,\n",
    "                                    main_qn.target_Q: target_q,\n",
    "                                    main_qn.actions: train_action\n",
    "                                })\n",
    "                    \n",
    "                    update_target(target_ops, sess)\n",
    "            if done:\n",
    "                break\n",
    "        experience_replay.add(episode_buffer.buffer)\n",
    "        num_steps.append(cur_step)\n",
    "        rewards.append(sum_rewards)\n",
    "        \n",
    "        if num_episode % save_every == 0:\n",
    "            saver.save(sess, path + \"/model-{}.ckpt\".format(num_episode))\n",
    "        if num_episode % print_every == 0:\n",
    "            print(\"Num episode: {} Mean reward: {:0.4f}\".format(\n",
    "                num_episode, np.mean(rewards[-print_every:])\n",
    "            ))"
   ]
  },
  {
   "cell_type": "code",
   "execution_count": 169,
   "metadata": {
    "scrolled": true
   },
   "outputs": [
    {
     "name": "stdout",
     "output_type": "stream",
     "text": [
      "Loading model...\n",
      "step: 1 action: 1 reward: 0.0 total rewards: 0.0\n",
      "step: 2 action: 2 reward: 0.0 total rewards: 0.0\n",
      "step: 3 action: 2 reward: -1.0 total rewards: -1.0\n",
      "step: 4 action: 0 reward: 0.0 total rewards: -1.0\n",
      "step: 5 action: 2 reward: 0.0 total rewards: -1.0\n",
      "step: 6 action: 2 reward: 0.0 total rewards: -1.0\n",
      "step: 7 action: 2 reward: 0.0 total rewards: -1.0\n",
      "step: 8 action: 2 reward: 0.0 total rewards: -1.0\n",
      "step: 9 action: 2 reward: 0.0 total rewards: -1.0\n",
      "step: 10 action: 2 reward: 0.0 total rewards: -1.0\n",
      "step: 11 action: 2 reward: 0.0 total rewards: -1.0\n",
      "step: 12 action: 2 reward: 0.0 total rewards: -1.0\n",
      "step: 13 action: 2 reward: 0.0 total rewards: -1.0\n",
      "step: 14 action: 2 reward: 0.0 total rewards: -1.0\n",
      "step: 15 action: 2 reward: 0.0 total rewards: -1.0\n",
      "step: 16 action: 2 reward: 0.0 total rewards: -1.0\n",
      "step: 17 action: 2 reward: 0.0 total rewards: -1.0\n",
      "step: 18 action: 2 reward: 0.0 total rewards: -1.0\n",
      "step: 19 action: 2 reward: 0.0 total rewards: -1.0\n",
      "step: 20 action: 2 reward: 0.0 total rewards: -1.0\n",
      "step: 21 action: 2 reward: 0.0 total rewards: -1.0\n",
      "step: 22 action: 2 reward: 0.0 total rewards: -1.0\n",
      "step: 23 action: 2 reward: 0.0 total rewards: -1.0\n",
      "step: 24 action: 2 reward: 0.0 total rewards: -1.0\n",
      "step: 25 action: 2 reward: 0.0 total rewards: -1.0\n",
      "step: 26 action: 2 reward: 0.0 total rewards: -1.0\n",
      "step: 27 action: 2 reward: 0.0 total rewards: -1.0\n",
      "step: 28 action: 2 reward: 0.0 total rewards: -1.0\n",
      "step: 29 action: 2 reward: 0.0 total rewards: -1.0\n",
      "step: 30 action: 2 reward: 0.0 total rewards: -1.0\n",
      "step: 31 action: 2 reward: 0.0 total rewards: -1.0\n",
      "step: 32 action: 2 reward: 0.0 total rewards: -1.0\n",
      "step: 33 action: 2 reward: 0.0 total rewards: -1.0\n",
      "step: 34 action: 2 reward: 0.0 total rewards: -1.0\n",
      "step: 35 action: 2 reward: 0.0 total rewards: -1.0\n",
      "step: 36 action: 2 reward: 0.0 total rewards: -1.0\n",
      "step: 37 action: 2 reward: 0.0 total rewards: -1.0\n",
      "step: 38 action: 2 reward: 0.0 total rewards: -1.0\n",
      "step: 39 action: 2 reward: 0.0 total rewards: -1.0\n",
      "step: 40 action: 2 reward: 0.0 total rewards: -1.0\n",
      "step: 41 action: 2 reward: 0.0 total rewards: -1.0\n",
      "step: 42 action: 2 reward: 0.0 total rewards: -1.0\n",
      "step: 43 action: 2 reward: 0.0 total rewards: -1.0\n",
      "step: 44 action: 2 reward: 0.0 total rewards: -1.0\n",
      "step: 45 action: 2 reward: 0.0 total rewards: -1.0\n",
      "step: 46 action: 2 reward: 0.0 total rewards: -1.0\n",
      "step: 47 action: 2 reward: 0.0 total rewards: -1.0\n",
      "step: 48 action: 2 reward: 0.0 total rewards: -1.0\n",
      "step: 49 action: 2 reward: 0.0 total rewards: -1.0\n",
      "step: 50 action: 2 reward: 0.0 total rewards: -1.0\n"
     ]
    },
    {
     "data": {
      "image/png": "[encoded data removed]",
      "text/plain": [
       "<matplotlib.figure.Figure at 0x11e5a4b70>"
      ]
     },
     "metadata": {},
     "output_type": "display_data"
    }
   ],
   "source": [
    "with tf.Session() as sess:\n",
    "    sess.run(init)\n",
    "    print(\"Loading model...\")\n",
    "    ckpt = tf.train.get_checkpoint_state(path)\n",
    "    saver.restore(sess,ckpt.model_checkpoint_path)\n",
    "    done = False\n",
    "    num_step = 0\n",
    "    sum_rewards = 0\n",
    "    state = process_state(env.reset())\n",
    "\n",
    "    while not done and num_step < max_num_step:\n",
    "        num_step += 1\n",
    "        action = sess.run(main_qn.predict, feed_dict = {\n",
    "            main_qn.scalar_input: [state]})[0]\n",
    "        next_state, reward, done = env.step(action)\n",
    "        sum_rewards += reward\n",
    "        print(\"step: {} action: {} reward: {} total rewards: {}\".format(\n",
    "            num_step,action,reward,sum_rewards))\n",
    "        plt.imshow(env.renderEnv())\n",
    "        \n",
    "        state = process_state(next_state)\n",
    "        "
   ]
  },
  {
   "cell_type": "code",
   "execution_count": 165,
   "metadata": {},
   "outputs": [
    {
     "data": {
      "text/plain": [
       "50"
      ]
     },
     "execution_count": 165,
     "metadata": {},
     "output_type": "execute_result"
    }
   ],
   "source": [
    "env."
   ]
  },
  {
   "cell_type": "code",
   "execution_count": 162,
   "metadata": {},
   "outputs": [
    {
     "data": {
      "text/plain": [
       "(84, 84, 3)"
      ]
     },
     "execution_count": 162,
     "metadata": {},
     "output_type": "execute_result"
    }
   ],
   "source": [
    "env.renderEnv().shape"
   ]
  },
  {
   "cell_type": "code",
   "execution_count": null,
   "metadata": {},
   "outputs": [],
   "source": []
  }
 ],
 "metadata": {
  "kernelspec": {
   "display_name": "Python 3",
   "language": "python",
   "name": "python3"
  },
  "language_info": {
   "codemirror_mode": {
    "name": "ipython",
    "version": 3
   },
   "file_extension": ".py",
   "mimetype": "text/x-python",
   "name": "python",
   "nbconvert_exporter": "python",
   "pygments_lexer": "ipython3",
   "version": "3.5.2"
  }
 },
 "nbformat": 4,
 "nbformat_minor": 2
}
