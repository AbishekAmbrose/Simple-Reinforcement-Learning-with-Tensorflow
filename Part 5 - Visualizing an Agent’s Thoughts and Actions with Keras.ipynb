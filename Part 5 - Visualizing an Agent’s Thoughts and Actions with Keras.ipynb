{
 "cells": [
  {
   "cell_type": "code",
   "execution_count": 1,
   "metadata": {},
   "outputs": [
    {
     "name": "stderr",
     "output_type": "stream",
     "text": [
      "Using TensorFlow backend.\n"
     ]
    }
   ],
   "source": [
    "from __future__ import division\n",
    "import gym\n",
    "import numpy as np\n",
    "import matplotlib.pyplot as plt\n",
    "import os\n",
    "from collections import Counter\n",
    "\n",
    "from keras.models import model_from_json\n",
    "\n",
    "%matplotlib inline"
   ]
  },
  {
   "cell_type": "code",
   "execution_count": 2,
   "metadata": {},
   "outputs": [],
   "source": [
    "from gridworld import gameEnv, gameOb"
   ]
  },
  {
   "cell_type": "markdown",
   "metadata": {},
   "source": [
    "## Loading the model"
   ]
  },
  {
   "cell_type": "code",
   "execution_count": 164,
   "metadata": {},
   "outputs": [],
   "source": [
    "path = \"./models\" # Path to save our model to\n",
    "main_weights_file = path + \"/main_weights.h5\" # File to save our main weights to\n",
    "\n",
    "with open(\"model_keras.json\", \"r\") as model_json:\n",
    "    model = model_from_json(model_json.read()) # Load the model architecture from JSON\n",
    "\n",
    "model.load_weights(main_weights_file) # Load the weights"
   ]
  },
  {
   "cell_type": "markdown",
   "metadata": {},
   "source": [
    "## Helpers"
   ]
  },
  {
   "cell_type": "code",
   "execution_count": 238,
   "metadata": {},
   "outputs": [],
   "source": [
    "def create_env(objects):\n",
    "    \"\"\" Create an env object based on objects provided\n",
    "        \n",
    "        0 is Blank (blank space to move)\n",
    "        1 is Fire (red, avoid)\n",
    "        2 is Hero (blue, control)\n",
    "        3 is Goal (green, try to capture)\n",
    "        \n",
    "        Length of objects must be a square and there must be one hero\n",
    "        \n",
    "        e.g. create_env([1,0,0,\n",
    "                         0,2,0,\n",
    "                         0,0,3]\n",
    "    \"\"\"\n",
    "    size = len(objects) ** 0.5\n",
    "    assert (size % 1 == 0), \"Grid must be square\" \n",
    "    assert Counter(objects).get(2) == 1, \"Must be only one hero\"\n",
    "    assert (set(objects).difference({0,1,2,3}) == set()), \"Only contains 0,1,2,3\"\n",
    "    params = {\n",
    "        1: lambda pos: gameOb(pos,1,1,0,-1,\"fire\"),\n",
    "        2: lambda pos: gameOb(pos,1,1,2,None,\"hero\"),\n",
    "        3: lambda pos: gameOb(pos,1,1,1,1,\"goal\"),  \n",
    "    }\n",
    "    \n",
    "    env = gameEnv(partial=False,size=int(size))\n",
    "    updated_objects = []\n",
    "    for idx, o in enumerate(objects):\n",
    "        if o not in params:\n",
    "            continue\n",
    "\n",
    "        x = int(idx % size)\n",
    "        y = int(idx // size)\n",
    "        \n",
    "        ob = params[o]((x,y))\n",
    "        if o == 2:\n",
    "            updated_objects = [ob] + updated_objects\n",
    "        else:\n",
    "            updated_objects.append(ob)\n",
    "        \n",
    "    env.objects = updated_objects\n",
    "    env.state = env.renderEnv()\n",
    "    \n",
    "    return env\n",
    "\n",
    "def pretty_predict(predict):\n",
    "    \"\"\" Returns string output of a neural network used in gridworld to human readable instructions\n",
    "        0: up, 1: down, 2: left, 3: right \n",
    "        e.g.\n",
    "            pretty_predict(model.predict(state))\n",
    "            out:\n",
    "               ⇧        ⇩       ⇦       ⇨    \n",
    "             0.704    2.263    1.680    1.670 \n",
    "        \"\"\"\n",
    "    \n",
    "    \n",
    "    if len(predict.shape) > 1:\n",
    "        return pretty_predict(predict[0])\n",
    "    \n",
    "    out = \"    ⇧        ⇩        ⇦         ⇨    \\n {:0.3f}    {:0.3f}    {:0.3f}    {:0.3f}  \".format(*predict)\n",
    "    return out"
   ]
  },
  {
   "cell_type": "code",
   "execution_count": 229,
   "metadata": {},
   "outputs": [
    {
     "data": {
      "image/png": "[encoded data removed]",
      "text/plain": [
       "<matplotlib.figure.Figure at 0x1e7370d6748>"
      ]
     },
     "metadata": {},
     "output_type": "display_data"
    }
   ],
   "source": [
    "max_num_step = 4\n",
    "\n",
    "f, axes = plt.subplots(nrows=max_num_step//2, ncols=2, \n",
    "                       sharex=True, sharey=True, figsize=(8,8))\n",
    "\n",
    "env = gameEnv(partial=False, size=5)\n",
    "\n",
    "for ax in axes.ravel():\n",
    "    state = env.reset()\n",
    "    state = np.expand_dims(state,axis=0)\n",
    "    out = model.predict(state)\n",
    "    title = pretty_predict(out)\n",
    "    ax.imshow(state[0])\n",
    "    ax.set_title(title)\n",
    "    ax.set_axis_off()\n"
   ]
  },
  {
   "cell_type": "markdown",
   "metadata": {},
   "source": [
    "## Custom maps"
   ]
  },
  {
   "cell_type": "code",
   "execution_count": 241,
   "metadata": {},
   "outputs": [
    {
     "data": {
      "image/png": "[encoded data removed]",
      "text/plain": [
       "<matplotlib.figure.Figure at 0x1e73243a358>"
      ]
     },
     "metadata": {},
     "output_type": "display_data"
    },
    {
     "data": {
      "image/png": "[encoded data removed]",
      "text/plain": [
       "<matplotlib.figure.Figure at 0x1e732454630>"
      ]
     },
     "metadata": {},
     "output_type": "display_data"
    }
   ],
   "source": [
    "env = create_env([1,1,1,1,1,\n",
    "                  1,1,1,1,1,\n",
    "                  1,1,2,1,1,\n",
    "                  1,1,0,1,1,\n",
    "                  3,0,0,1,1]) # Custom map that has one possible path to goal without incurring penalty\n",
    "\n",
    "max_num_step = 6\n",
    "\n",
    "f, axes = plt.subplots(nrows=max_num_step//2, ncols=2, \n",
    "                       sharex=True, sharey=True, figsize=(8,8))\n",
    "\n",
    "state = env.state\n",
    "\n",
    "for ax in axes.ravel():\n",
    "    out = model.predict(np.expand_dims(state,0))\n",
    "    title = pretty_predict(out)\n",
    "    ax.imshow(state)\n",
    "    ax.set_title(title)\n",
    "    ax.set_axis_off()\n",
    "    action = np.argmax(out,axis=1)[0]\n",
    "    state, reward, done = env.step(action)\n"
   ]
  },
  {
   "cell_type": "code",
   "execution_count": null,
   "metadata": {},
   "outputs": [],
   "source": []
  }
 ],
 "metadata": {
  "kernelspec": {
   "display_name": "Python 3",
   "language": "python",
   "name": "python3"
  },
  "language_info": {
   "codemirror_mode": {
    "name": "ipython",
    "version": 3
   },
   "file_extension": ".py",
   "mimetype": "text/x-python",
   "name": "python",
   "nbconvert_exporter": "python",
   "pygments_lexer": "ipython3",
   "version": "3.6.3"
  }
 },
 "nbformat": 4,
 "nbformat_minor": 2
}
