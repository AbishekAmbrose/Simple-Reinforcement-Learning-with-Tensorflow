{
 "cells": [
  {
   "cell_type": "markdown",
   "metadata": {},
   "source": [
    "# Simple Reinforcement Learning with Keras: Part 2 - Policy-based Agents\n",
    "\n",
    "Re-write of code from [Simple Reinforcement Learning with Tensorflow: Part 2 - Policy-based Agents](https://medium.com/@awjuliani/super-simple-reinforcement-learning-tutorial-part-2-ded33892c724#.zh7rnjs25)"
   ]
  },
  {
   "cell_type": "code",
   "execution_count": 1,
   "metadata": {},
   "outputs": [],
   "source": [
    "%matplotlib inline\n",
    "import numpy as np\n",
    "import matplotlib.pyplot as plt"
   ]
  },
  {
   "cell_type": "code",
   "execution_count": 2,
   "metadata": {},
   "outputs": [],
   "source": [
    "import gym\n",
    "env = gym.make(\"CartPole-v0\")"
   ]
  },
  {
   "cell_type": "code",
   "execution_count": 3,
   "metadata": {},
   "outputs": [
    {
     "name": "stdout",
     "output_type": "stream",
     "text": [
      "Reward for this episode was: 15.0\n",
      "Reward for this episode was: 18.0\n",
      "Reward for this episode was: 22.0\n",
      "Reward for this episode was: 17.0\n",
      "Reward for this episode was: 33.0\n",
      "Reward for this episode was: 15.0\n",
      "Reward for this episode was: 10.0\n",
      "Reward for this episode was: 16.0\n",
      "Reward for this episode was: 13.0\n",
      "Reward for this episode was: 39.0\n"
     ]
    }
   ],
   "source": [
    "# Try running environment with random actions\n",
    "env.reset()\n",
    "reward_sum = 0\n",
    "num_games = 10\n",
    "num_game = 0\n",
    "while num_game < num_games:\n",
    "#     env.render()\n",
    "    observation, reward, done, _ = env.step(env.action_space.sample())\n",
    "    reward_sum += reward\n",
    "    if done:\n",
    "        print(\"Reward for this episode was: {}\".format(reward_sum))\n",
    "        reward_sum = 0\n",
    "        num_game += 1\n",
    "        env.reset()"
   ]
  },
  {
   "cell_type": "markdown",
   "metadata": {},
   "source": [
    "## Setting up a Neural Network agent\n",
    "We will use a policy neural network that takes observations, passes them through a single hidden layer and then produces a probability of choosing a left/right movement."
   ]
  },
  {
   "cell_type": "code",
   "execution_count": 4,
   "metadata": {},
   "outputs": [
    {
     "name": "stderr",
     "output_type": "stream",
     "text": [
      "Using TensorFlow backend.\n"
     ]
    }
   ],
   "source": [
    "import keras.layers as layers\n",
    "from keras.models import Model\n",
    "from keras.optimizers import Adam\n",
    "import keras.backend as K\n",
    "from keras.initializers import glorot_uniform\n",
    "\n",
    "def get_policy_model(env, hidden_layer_neurons, lr):\n",
    "    dimen = env.reset().shape\n",
    "    num_actions = env.action_space.n\n",
    "    inp = layers.Input(shape=dimen,name=\"input_x\")\n",
    "    adv = layers.Input(shape=[1], name=\"advantages\")\n",
    "    x = layers.Dense(hidden_layer_neurons, \n",
    "                     activation=\"relu\", \n",
    "                     use_bias=False,\n",
    "                     kernel_initializer=glorot_uniform(seed=42),\n",
    "                     name=\"dense_1\")(inp)\n",
    "    out = layers.Dense(num_actions, \n",
    "                       activation=\"softmax\", \n",
    "                       kernel_initializer=glorot_uniform(seed=42),\n",
    "                       use_bias=False,\n",
    "                       name=\"out\")(x)\n",
    "\n",
    "    def custom_loss(y_true, y_pred):\n",
    "        # actual: 0 predict: 0 -> log(0 * (0 - 0) + (1 - 0) * (0 + 0)) = -inf\n",
    "        # actual: 1 predict: 1 -> log(1 * (1 - 1) + (1 - 1) * (1 + 1)) = -inf\n",
    "        # actual: 1 predict: 0 -> log(1 * (1 - 0) + (1 - 1) * (1 + 0)) = 0\n",
    "        # actual: 0 predict: 1 -> log(0 * (0 - 1) + (1 - 0) * (0 + 1)) = 0\n",
    "        log_lik = K.log(y_true * (y_true - y_pred) + (1 - y_true) * (y_true + y_pred))\n",
    "        return K.mean(log_lik * adv, keepdims=True)\n",
    "        \n",
    "    model_train = Model(inputs=[inp, adv], outputs=out)\n",
    "    model_train.compile(loss=custom_loss, optimizer=Adam(lr))\n",
    "    model_predict = Model(inputs=[inp], outputs=out)\n",
    "    return model_train, model_predict"
   ]
  },
  {
   "cell_type": "code",
   "execution_count": 5,
   "metadata": {},
   "outputs": [],
   "source": [
    "def discount_rewards(r, gamma=0.99):\n",
    "    \"\"\"Takes 1d float array of rewards and computes discounted reward\n",
    "    e.g. f([1, 1, 1], 0.99) -> [2.9701, 1.99, 1]\n",
    "    \"\"\"\n",
    "    prior = 0\n",
    "    out = []\n",
    "    for val in r:\n",
    "        new_val = val + prior * gamma\n",
    "        out.append(new_val)\n",
    "        prior = new_val\n",
    "    return np.array(out[::-1])"
   ]
  },
  {
   "cell_type": "code",
   "execution_count": 6,
   "metadata": {},
   "outputs": [],
   "source": [
    "# Constants defining our neural network\n",
    "hidden_layer_neurons = 8\n",
    "gamma = .99\n",
    "dimen = len(env.reset())\n",
    "print_every = 100\n",
    "batch_size = 50\n",
    "num_episodes = 10000\n",
    "render = False\n",
    "lr = 1e-2\n",
    "goal = 190"
   ]
  },
  {
   "cell_type": "code",
   "execution_count": 7,
   "metadata": {},
   "outputs": [],
   "source": [
    "# See our trained bot in action\n",
    "def score_model(model, num_tests, render=False):\n",
    "    scores = []    \n",
    "    for num_test in range(num_tests):\n",
    "        observation = env.reset()\n",
    "        reward_sum = 0\n",
    "        while True:\n",
    "            if render:\n",
    "                env.render()\n",
    "\n",
    "            state = np.reshape(observation, [1, dimen])\n",
    "            predict = model.predict([state])[0]\n",
    "            action = np.argmax(predict)\n",
    "            observation, reward, done, _ = env.step(action)\n",
    "            reward_sum += reward\n",
    "            if done:\n",
    "                break\n",
    "        scores.append(reward_sum)\n",
    "    env.close()\n",
    "    return np.mean(scores)"
   ]
  },
  {
   "cell_type": "code",
   "execution_count": 8,
   "metadata": {},
   "outputs": [
    {
     "name": "stdout",
     "output_type": "stream",
     "text": [
      "_________________________________________________________________\n",
      "Layer (type)                 Output Shape              Param #   \n",
      "=================================================================\n",
      "input_x (InputLayer)         (None, 4)                 0         \n",
      "_________________________________________________________________\n",
      "dense_1 (Dense)              (None, 8)                 32        \n",
      "_________________________________________________________________\n",
      "out (Dense)                  (None, 2)                 16        \n",
      "=================================================================\n",
      "Total params: 48\n",
      "Trainable params: 48\n",
      "Non-trainable params: 0\n",
      "_________________________________________________________________\n"
     ]
    }
   ],
   "source": [
    "model_train, model_predict = get_policy_model(env, hidden_layer_neurons, lr)\n",
    "model_predict.summary()"
   ]
  },
  {
   "cell_type": "code",
   "execution_count": 11,
   "metadata": {
    "scrolled": false
   },
   "outputs": [
    {
     "name": "stdout",
     "output_type": "stream",
     "text": [
      "Average reward for training episode 100: 20.47 Test Score: 9.80 Loss: 0.050004 \n",
      "Average reward for training episode 200: 20.60 Test Score: 15.00 Loss: 0.033607 \n",
      "Average reward for training episode 300: 23.80 Test Score: 13.70 Loss: 0.024530 \n",
      "Average reward for training episode 400: 23.41 Test Score: 103.00 Loss: 0.018437 \n",
      "Average reward for training episode 500: 22.27 Test Score: 84.60 Loss: 0.014054 \n",
      "Average reward for training episode 600: 25.61 Test Score: 113.70 Loss: 0.011274 \n",
      "Average reward for training episode 700: 28.11 Test Score: 106.50 Loss: 0.009027 \n",
      "Average reward for training episode 800: 26.41 Test Score: 148.60 Loss: 0.007558 \n",
      "Average reward for training episode 900: 25.46 Test Score: 139.10 Loss: 0.006704 \n",
      "Average reward for training episode 1000: 27.70 Test Score: 118.40 Loss: 0.005637 \n",
      "Average reward for training episode 1100: 27.05 Test Score: 112.10 Loss: 0.005059 \n",
      "Average reward for training episode 1200: 28.19 Test Score: 111.60 Loss: 0.004510 \n",
      "Average reward for training episode 1300: 29.31 Test Score: 139.30 Loss: 0.004097 \n",
      "Average reward for training episode 1400: 26.58 Test Score: 122.60 Loss: 0.003745 \n",
      "Average reward for training episode 1500: 28.22 Test Score: 104.90 Loss: 0.003291 \n",
      "Average reward for training episode 1600: 26.77 Test Score: 109.10 Loss: 0.003000 \n",
      "Average reward for training episode 1700: 26.26 Test Score: 110.30 Loss: 0.002594 \n",
      "Average reward for training episode 1800: 27.72 Test Score: 102.60 Loss: 0.002330 \n",
      "Average reward for training episode 1900: 25.82 Test Score: 105.30 Loss: 0.001968 \n",
      "Average reward for training episode 2000: 26.75 Test Score: 91.50 Loss: 0.001737 \n",
      "Average reward for training episode 2100: 27.34 Test Score: 125.70 Loss: 0.001577 \n",
      "Average reward for training episode 2200: 28.77 Test Score: 118.00 Loss: 0.001368 \n",
      "Average reward for training episode 2300: 26.85 Test Score: 121.60 Loss: 0.001208 \n",
      "Average reward for training episode 2400: 30.70 Test Score: 149.90 Loss: 0.001181 \n",
      "Average reward for training episode 2500: 28.64 Test Score: 123.80 Loss: 0.001141 \n",
      "Average reward for training episode 2600: 26.47 Test Score: 131.40 Loss: 0.001052 \n",
      "Average reward for training episode 2700: 28.89 Test Score: 164.80 Loss: 0.000909 \n",
      "Average reward for training episode 2800: 24.22 Test Score: 166.30 Loss: 0.000767 \n",
      "Average reward for training episode 2900: 28.72 Test Score: 162.80 Loss: 0.000514 \n",
      "Average reward for training episode 3000: 23.79 Test Score: 132.40 Loss: 0.000451 \n",
      "Average reward for training episode 3100: 23.74 Test Score: 166.50 Loss: 0.000324 \n",
      "Average reward for training episode 3200: 26.70 Test Score: 166.90 Loss: 0.000187 \n",
      "Average reward for training episode 3300: 26.75 Test Score: 167.10 Loss: 0.000120 \n",
      "Average reward for training episode 3400: 26.80 Test Score: 163.90 Loss: 0.000036 \n",
      "Average reward for training episode 3500: 24.24 Test Score: 190.20 Loss: -0.000154 \n",
      "Solved in 3499 episodes!\n"
     ]
    }
   ],
   "source": [
    "reward_sum = 0\n",
    "\n",
    "num_actions = env.action_space.n\n",
    "\n",
    "# Placeholders for our observations, outputs and rewards\n",
    "states = np.empty(0).reshape(0,dimen)\n",
    "actions = np.empty(0).reshape(0,1)\n",
    "rewards = np.empty(0).reshape(0,1)\n",
    "discounted_rewards = np.empty(0).reshape(0,1)\n",
    "\n",
    "# Setting up our environment\n",
    "observation = env.reset()\n",
    "\n",
    "num_episode = 0\n",
    "\n",
    "losses = []\n",
    "\n",
    "while num_episode < num_episodes:\n",
    "    # Append the observations to our batch\n",
    "    state = np.reshape(observation, [1, dimen])\n",
    "    \n",
    "    predict = model_predict.predict([state])[0]\n",
    "    action = np.random.choice(range(num_actions),p=predict)\n",
    "    \n",
    "    # Append the observations and outputs for learning\n",
    "    states = np.vstack([states, state])\n",
    "    actions = np.vstack([actions, action])\n",
    "    \n",
    "    # Determine the oucome of our action\n",
    "    observation, reward, done, _ = env.step(action)\n",
    "    reward_sum += reward\n",
    "    rewards = np.vstack([rewards, reward])\n",
    "    \n",
    "    if done:\n",
    "        # Determine standardized rewards\n",
    "        discounted_rewards_episode = discount_rewards(rewards, gamma)       \n",
    "        discounted_rewards = np.vstack([discounted_rewards, discounted_rewards_episode])\n",
    "        \n",
    "        rewards = np.empty(0).reshape(0,1)\n",
    "\n",
    "        if (num_episode + 1) % batch_size == 0:\n",
    "            discounted_rewards -= discounted_rewards.mean()\n",
    "            discounted_rewards /= discounted_rewards.std()\n",
    "            discounted_rewards = discounted_rewards.squeeze()\n",
    "            actions = actions.squeeze().astype(int)\n",
    "           \n",
    "            actions_train = np.zeros([len(actions), num_actions])\n",
    "            actions_train[np.arange(len(actions)), actions] = 1\n",
    "            \n",
    "            loss = model_train.train_on_batch([states, discounted_rewards], actions_train)\n",
    "            losses.append(loss)\n",
    "\n",
    "            # Clear out game variables\n",
    "            states = np.empty(0).reshape(0,dimen)\n",
    "            actions = np.empty(0).reshape(0,1)\n",
    "            discounted_rewards = np.empty(0).reshape(0,1)\n",
    "\n",
    "\n",
    "        # Print periodically\n",
    "        if (num_episode + 1) % print_every == 0:\n",
    "            # Print status\n",
    "            score = score_model(model_predict,10)\n",
    "            print(\"Average reward for training episode {}: {:0.2f} Test Score: {:0.2f} Loss: {:0.6f} \".format(\n",
    "                (num_episode + 1), reward_sum/print_every, \n",
    "                score,\n",
    "                np.mean(losses[-print_every:])))\n",
    "            \n",
    "            if score >= goal:\n",
    "                print(\"Solved in {} episodes!\".format(num_episode))\n",
    "                break\n",
    "            reward_sum = 0\n",
    "                \n",
    "        num_episode += 1\n",
    "        observation = env.reset()\n",
    "        "
   ]
  },
  {
   "cell_type": "code",
   "execution_count": 12,
   "metadata": {},
   "outputs": [],
   "source": [
    "env.close()"
   ]
  }
 ],
 "metadata": {
  "kernelspec": {
   "display_name": "Python 3",
   "language": "python",
   "name": "python3"
  },
  "language_info": {
   "codemirror_mode": {
    "name": "ipython",
    "version": 3
   },
   "file_extension": ".py",
   "mimetype": "text/x-python",
   "name": "python",
   "nbconvert_exporter": "python",
   "pygments_lexer": "ipython3",
   "version": "3.6.3"
  }
 },
 "nbformat": 4,
 "nbformat_minor": 1
}
